{
 "cells": [
  {
   "cell_type": "markdown",
   "metadata": {
    "button": false,
    "new_sheet": false,
    "run_control": {
     "read_only": false
    }
   },
   "source": [
    "<center>\n",
    "    <img src=\"https://cf-courses-data.s3.us.cloud-object-storage.appdomain.cloud/IBMDeveloperSkillsNetwork-ML0101EN-SkillsNetwork/labs/FinalModule_Coursera/images/IDSNlogo.png\" width=\"300\" alt=\"cognitiveclass.ai logo\"  />\n",
    "</center>\n",
    "\n",
    "<h1 align=\"center\"><font size=\"5\">Classification with Python</font></h1>\n"
   ]
  },
  {
   "cell_type": "markdown",
   "metadata": {
    "button": false,
    "new_sheet": false,
    "run_control": {
     "read_only": false
    }
   },
   "source": [
    "In this notebook we try to practice all the classification algorithms that we have learned in this course.\n",
    "\n",
    "We load a dataset using Pandas library, and apply the following algorithms, and find the best one for this specific dataset by accuracy evaluation methods.\n",
    "\n",
    "Let's first load required libraries:\n"
   ]
  },
  {
   "cell_type": "code",
   "execution_count": 1,
   "metadata": {
    "button": false,
    "execution": {
     "iopub.execute_input": "2021-08-16T10:42:47.454355Z",
     "iopub.status.busy": "2021-08-16T10:42:47.453986Z",
     "iopub.status.idle": "2021-08-16T10:42:47.463495Z",
     "shell.execute_reply": "2021-08-16T10:42:47.462603Z",
     "shell.execute_reply.started": "2021-08-16T10:42:47.454325Z"
    },
    "new_sheet": false,
    "run_control": {
     "read_only": false
    }
   },
   "outputs": [],
   "source": [
    "import itertools\n",
    "import numpy as np\n",
    "import matplotlib.pyplot as plt\n",
    "from matplotlib.ticker import NullFormatter\n",
    "import pandas as pd\n",
    "import numpy as np\n",
    "import matplotlib.ticker as ticker\n",
    "from sklearn import preprocessing\n",
    "import seaborn as sns\n",
    "\n",
    "%matplotlib inline"
   ]
  },
  {
   "cell_type": "markdown",
   "metadata": {
    "button": false,
    "new_sheet": false,
    "run_control": {
     "read_only": false
    }
   },
   "source": [
    "### About dataset\n"
   ]
  },
  {
   "cell_type": "markdown",
   "metadata": {
    "button": false,
    "new_sheet": false,
    "run_control": {
     "read_only": false
    }
   },
   "source": [
    "This dataset is about past loans. The **Loan_train.csv** data set includes details of 346 customers whose loan are already paid off or defaulted. It includes following fields:\n",
    "\n",
    "| Field          | Description                                                                           |\n",
    "|----------------|---------------------------------------------------------------------------------------|\n",
    "| Loan_status    | Whether a loan is paid off on in collection                                           |\n",
    "| Principal      | Basic principal loan amount at the                                                    |\n",
    "| Terms          | Origination terms which can be weekly (7 days), biweekly, and monthly payoff schedule |\n",
    "| Effective_date | When the loan got originated and took effects                                         |\n",
    "| Due_date       | Since it’s one-time payoff schedule, each loan has one single due date                |\n",
    "| Age            | Age of applicant                                                                      |\n",
    "| Education      | Education of applicant                                                                |\n",
    "| Gender         | The gender of applicant                                                               |\n"
   ]
  },
  {
   "cell_type": "markdown",
   "metadata": {
    "button": false,
    "new_sheet": false,
    "run_control": {
     "read_only": false
    }
   },
   "source": [
    "Let's download the dataset\n"
   ]
  },
  {
   "cell_type": "code",
   "execution_count": 2,
   "metadata": {
    "button": false,
    "execution": {
     "iopub.execute_input": "2021-08-16T10:42:47.465371Z",
     "iopub.status.busy": "2021-08-16T10:42:47.464934Z",
     "iopub.status.idle": "2021-08-16T10:42:48.800808Z",
     "shell.execute_reply": "2021-08-16T10:42:48.799678Z",
     "shell.execute_reply.started": "2021-08-16T10:42:47.465336Z"
    },
    "new_sheet": false,
    "run_control": {
     "read_only": false
    }
   },
   "outputs": [
    {
     "name": "stderr",
     "output_type": "stream",
     "text": [
      "'wget' is not recognized as an internal or external command,\n",
      "operable program or batch file.\n"
     ]
    }
   ],
   "source": [
    "!wget -O loan_train.csv https://cf-courses-data.s3.us.cloud-object-storage.appdomain.cloud/IBMDeveloperSkillsNetwork-ML0101EN-SkillsNetwork/labs/FinalModule_Coursera/data/loan_train.csv"
   ]
  },
  {
   "cell_type": "markdown",
   "metadata": {
    "button": false,
    "new_sheet": false,
    "run_control": {
     "read_only": false
    }
   },
   "source": [
    "### Load Data From CSV File\n"
   ]
  },
  {
   "cell_type": "code",
   "execution_count": null,
   "metadata": {
    "button": false,
    "execution": {
     "iopub.execute_input": "2021-08-16T10:42:48.803553Z",
     "iopub.status.busy": "2021-08-16T10:42:48.80321Z",
     "iopub.status.idle": "2021-08-16T10:42:48.828669Z",
     "shell.execute_reply": "2021-08-16T10:42:48.827664Z",
     "shell.execute_reply.started": "2021-08-16T10:42:48.803517Z"
    },
    "new_sheet": false,
    "run_control": {
     "read_only": false
    }
   },
   "outputs": [],
   "source": [
    "df = pd.read_csv('loan_train.csv')\n",
    "df.head()"
   ]
  },
  {
   "cell_type": "code",
   "execution_count": null,
   "metadata": {
    "execution": {
     "iopub.execute_input": "2021-08-16T10:42:48.830708Z",
     "iopub.status.busy": "2021-08-16T10:42:48.830388Z",
     "iopub.status.idle": "2021-08-16T10:42:48.836953Z",
     "shell.execute_reply": "2021-08-16T10:42:48.836187Z",
     "shell.execute_reply.started": "2021-08-16T10:42:48.830677Z"
    }
   },
   "outputs": [],
   "source": [
    "df.shape"
   ]
  },
  {
   "cell_type": "markdown",
   "metadata": {
    "button": false,
    "new_sheet": false,
    "run_control": {
     "read_only": false
    }
   },
   "source": [
    "### Convert to date time object\n"
   ]
  },
  {
   "cell_type": "code",
   "execution_count": null,
   "metadata": {
    "button": false,
    "execution": {
     "iopub.execute_input": "2021-08-16T10:42:48.838384Z",
     "iopub.status.busy": "2021-08-16T10:42:48.83804Z",
     "iopub.status.idle": "2021-08-16T10:42:48.871324Z",
     "shell.execute_reply": "2021-08-16T10:42:48.87037Z",
     "shell.execute_reply.started": "2021-08-16T10:42:48.838355Z"
    },
    "new_sheet": false,
    "run_control": {
     "read_only": false
    }
   },
   "outputs": [],
   "source": [
    "df['due_date'] = pd.to_datetime(df['due_date'])\n",
    "df['effective_date'] = pd.to_datetime(df['effective_date'])\n",
    "df.head()"
   ]
  },
  {
   "cell_type": "markdown",
   "metadata": {
    "button": false,
    "new_sheet": false,
    "run_control": {
     "read_only": false
    }
   },
   "source": [
    "# Data visualization and pre-processing\n"
   ]
  },
  {
   "cell_type": "markdown",
   "metadata": {
    "button": false,
    "new_sheet": false,
    "run_control": {
     "read_only": false
    }
   },
   "source": [
    "Let’s see how many of each class is in our data set\n"
   ]
  },
  {
   "cell_type": "code",
   "execution_count": null,
   "metadata": {
    "button": false,
    "execution": {
     "iopub.execute_input": "2021-08-16T10:42:48.872874Z",
     "iopub.status.busy": "2021-08-16T10:42:48.872571Z",
     "iopub.status.idle": "2021-08-16T10:42:48.882888Z",
     "shell.execute_reply": "2021-08-16T10:42:48.881527Z",
     "shell.execute_reply.started": "2021-08-16T10:42:48.872845Z"
    },
    "new_sheet": false,
    "run_control": {
     "read_only": false
    }
   },
   "outputs": [],
   "source": [
    "df['loan_status'].value_counts()"
   ]
  },
  {
   "cell_type": "markdown",
   "metadata": {
    "button": false,
    "new_sheet": false,
    "run_control": {
     "read_only": false
    }
   },
   "source": [
    "260 people have paid off the loan on time while 86 have gone into collection\n"
   ]
  },
  {
   "cell_type": "markdown",
   "metadata": {},
   "source": [
    "Let's plot some columns to underestand data better:\n"
   ]
  },
  {
   "cell_type": "code",
   "execution_count": null,
   "metadata": {
    "execution": {
     "iopub.execute_input": "2021-08-16T10:42:48.885738Z",
     "iopub.status.busy": "2021-08-16T10:42:48.885434Z",
     "iopub.status.idle": "2021-08-16T10:43:29.350773Z",
     "shell.execute_reply": "2021-08-16T10:43:29.349268Z",
     "shell.execute_reply.started": "2021-08-16T10:42:48.885711Z"
    }
   },
   "outputs": [],
   "source": [
    "# notice: installing seaborn might takes a few minutes\n",
    "!conda install -c anaconda seaborn -y"
   ]
  },
  {
   "cell_type": "code",
   "execution_count": null,
   "metadata": {
    "execution": {
     "iopub.execute_input": "2021-08-16T10:43:29.353953Z",
     "iopub.status.busy": "2021-08-16T10:43:29.353471Z",
     "iopub.status.idle": "2021-08-16T10:43:29.843979Z",
     "shell.execute_reply": "2021-08-16T10:43:29.842354Z",
     "shell.execute_reply.started": "2021-08-16T10:43:29.353898Z"
    }
   },
   "outputs": [],
   "source": [
    "import seaborn as sns\n",
    "\n",
    "bins = np.linspace(df.Principal.min(), df.Principal.max(), 10)\n",
    "g = sns.FacetGrid(df, col=\"Gender\", hue=\"loan_status\", palette=\"Set1\", col_wrap=2)\n",
    "g.map(plt.hist, 'Principal', bins=bins, ec=\"k\")\n",
    "\n",
    "g.axes[-1].legend()\n",
    "plt.show()"
   ]
  },
  {
   "cell_type": "code",
   "execution_count": null,
   "metadata": {
    "button": false,
    "execution": {
     "iopub.execute_input": "2021-08-16T10:43:29.845721Z",
     "iopub.status.busy": "2021-08-16T10:43:29.845371Z",
     "iopub.status.idle": "2021-08-16T10:43:30.271265Z",
     "shell.execute_reply": "2021-08-16T10:43:30.270176Z",
     "shell.execute_reply.started": "2021-08-16T10:43:29.84567Z"
    },
    "new_sheet": false,
    "run_control": {
     "read_only": false
    }
   },
   "outputs": [],
   "source": [
    "bins = np.linspace(df.age.min(), df.age.max(), 10)\n",
    "g = sns.FacetGrid(df, col=\"Gender\", hue=\"loan_status\", palette=\"Set1\", col_wrap=2)\n",
    "g.map(plt.hist, 'age', bins=bins, ec=\"k\")\n",
    "\n",
    "g.axes[-1].legend()\n",
    "plt.show()"
   ]
  },
  {
   "cell_type": "markdown",
   "metadata": {
    "button": false,
    "new_sheet": false,
    "run_control": {
     "read_only": false
    }
   },
   "source": [
    "# Pre-processing:  Feature selection/extraction\n"
   ]
  },
  {
   "cell_type": "markdown",
   "metadata": {
    "button": false,
    "new_sheet": false,
    "run_control": {
     "read_only": false
    }
   },
   "source": [
    "### Let's look at the day of the week people get the loan\n"
   ]
  },
  {
   "cell_type": "code",
   "execution_count": null,
   "metadata": {
    "button": false,
    "execution": {
     "iopub.execute_input": "2021-08-16T10:43:30.272863Z",
     "iopub.status.busy": "2021-08-16T10:43:30.272538Z",
     "iopub.status.idle": "2021-08-16T10:43:30.686591Z",
     "shell.execute_reply": "2021-08-16T10:43:30.685586Z",
     "shell.execute_reply.started": "2021-08-16T10:43:30.272833Z"
    },
    "new_sheet": false,
    "run_control": {
     "read_only": false
    }
   },
   "outputs": [],
   "source": [
    "df['dayofweek'] = df['effective_date'].dt.dayofweek\n",
    "bins = np.linspace(df.dayofweek.min(), df.dayofweek.max(), 10)\n",
    "g = sns.FacetGrid(df, col=\"Gender\", hue=\"loan_status\", palette=\"Set1\", col_wrap=2)\n",
    "g.map(plt.hist, 'dayofweek', bins=bins, ec=\"k\")\n",
    "g.axes[-1].legend()\n",
    "plt.show()\n"
   ]
  },
  {
   "cell_type": "markdown",
   "metadata": {
    "button": false,
    "new_sheet": false,
    "run_control": {
     "read_only": false
    }
   },
   "source": [
    "We see that people who get the loan at the end of the week don't pay it off, so let's use Feature binarization to set a threshold value less than day 4\n"
   ]
  },
  {
   "cell_type": "code",
   "execution_count": null,
   "metadata": {
    "button": false,
    "execution": {
     "iopub.execute_input": "2021-08-16T10:43:30.68847Z",
     "iopub.status.busy": "2021-08-16T10:43:30.688164Z",
     "iopub.status.idle": "2021-08-16T10:43:30.709063Z",
     "shell.execute_reply": "2021-08-16T10:43:30.707906Z",
     "shell.execute_reply.started": "2021-08-16T10:43:30.688441Z"
    },
    "new_sheet": false,
    "run_control": {
     "read_only": false
    }
   },
   "outputs": [],
   "source": [
    "df['weekend'] = df['dayofweek'].apply(lambda x: 1 if (x>3)  else 0)\n",
    "df.head()"
   ]
  },
  {
   "cell_type": "markdown",
   "metadata": {
    "button": false,
    "new_sheet": false,
    "run_control": {
     "read_only": false
    }
   },
   "source": [
    "## Convert Categorical features to numerical values\n"
   ]
  },
  {
   "cell_type": "markdown",
   "metadata": {
    "button": false,
    "new_sheet": false,
    "run_control": {
     "read_only": false
    }
   },
   "source": [
    "Let's look at gender:\n"
   ]
  },
  {
   "cell_type": "code",
   "execution_count": null,
   "metadata": {
    "button": false,
    "execution": {
     "iopub.execute_input": "2021-08-16T10:43:30.711246Z",
     "iopub.status.busy": "2021-08-16T10:43:30.710822Z",
     "iopub.status.idle": "2021-08-16T10:43:30.727983Z",
     "shell.execute_reply": "2021-08-16T10:43:30.727087Z",
     "shell.execute_reply.started": "2021-08-16T10:43:30.711203Z"
    },
    "new_sheet": false,
    "run_control": {
     "read_only": false
    }
   },
   "outputs": [],
   "source": [
    "df.groupby(['Gender'])['loan_status'].value_counts(normalize=True)"
   ]
  },
  {
   "cell_type": "markdown",
   "metadata": {
    "button": false,
    "new_sheet": false,
    "run_control": {
     "read_only": false
    }
   },
   "source": [
    "86 % of female pay there loans while only 73 % of males pay there loan\n"
   ]
  },
  {
   "cell_type": "markdown",
   "metadata": {
    "button": false,
    "new_sheet": false,
    "run_control": {
     "read_only": false
    }
   },
   "source": [
    "Let's convert male to 0 and female to 1:\n"
   ]
  },
  {
   "cell_type": "code",
   "execution_count": null,
   "metadata": {
    "button": false,
    "execution": {
     "iopub.execute_input": "2021-08-16T10:43:30.729854Z",
     "iopub.status.busy": "2021-08-16T10:43:30.729335Z",
     "iopub.status.idle": "2021-08-16T10:43:30.749592Z",
     "shell.execute_reply": "2021-08-16T10:43:30.748568Z",
     "shell.execute_reply.started": "2021-08-16T10:43:30.729821Z"
    },
    "new_sheet": false,
    "run_control": {
     "read_only": false
    }
   },
   "outputs": [],
   "source": [
    "df['Gender'].replace(to_replace=['male','female'], value=[0,1],inplace=True)\n",
    "df.head()"
   ]
  },
  {
   "cell_type": "markdown",
   "metadata": {
    "button": false,
    "new_sheet": false,
    "run_control": {
     "read_only": false
    }
   },
   "source": [
    "## One Hot Encoding\n",
    "\n",
    "#### How about education?\n"
   ]
  },
  {
   "cell_type": "code",
   "execution_count": null,
   "metadata": {
    "button": false,
    "execution": {
     "iopub.execute_input": "2021-08-16T10:43:30.751489Z",
     "iopub.status.busy": "2021-08-16T10:43:30.751182Z",
     "iopub.status.idle": "2021-08-16T10:43:30.771895Z",
     "shell.execute_reply": "2021-08-16T10:43:30.770919Z",
     "shell.execute_reply.started": "2021-08-16T10:43:30.75146Z"
    },
    "new_sheet": false,
    "run_control": {
     "read_only": false
    }
   },
   "outputs": [],
   "source": [
    "df.groupby(['education'])['loan_status'].value_counts(normalize=True)"
   ]
  },
  {
   "cell_type": "markdown",
   "metadata": {
    "button": false,
    "new_sheet": false,
    "run_control": {
     "read_only": false
    }
   },
   "source": [
    "#### Features before One Hot Encoding\n"
   ]
  },
  {
   "cell_type": "code",
   "execution_count": null,
   "metadata": {
    "button": false,
    "execution": {
     "iopub.execute_input": "2021-08-16T10:43:30.775894Z",
     "iopub.status.busy": "2021-08-16T10:43:30.775491Z",
     "iopub.status.idle": "2021-08-16T10:43:30.788269Z",
     "shell.execute_reply": "2021-08-16T10:43:30.787252Z",
     "shell.execute_reply.started": "2021-08-16T10:43:30.775865Z"
    },
    "new_sheet": false,
    "run_control": {
     "read_only": false
    }
   },
   "outputs": [],
   "source": [
    "df[['Principal','terms','age','Gender','education']].head()"
   ]
  },
  {
   "cell_type": "markdown",
   "metadata": {
    "button": false,
    "new_sheet": false,
    "run_control": {
     "read_only": false
    }
   },
   "source": [
    "#### Use one hot encoding technique to conver categorical varables to binary variables and append them to the feature Data Frame\n"
   ]
  },
  {
   "cell_type": "code",
   "execution_count": null,
   "metadata": {
    "button": false,
    "execution": {
     "iopub.execute_input": "2021-08-16T10:43:30.789909Z",
     "iopub.status.busy": "2021-08-16T10:43:30.789581Z",
     "iopub.status.idle": "2021-08-16T10:43:30.809987Z",
     "shell.execute_reply": "2021-08-16T10:43:30.808761Z",
     "shell.execute_reply.started": "2021-08-16T10:43:30.789881Z"
    },
    "new_sheet": false,
    "run_control": {
     "read_only": false
    }
   },
   "outputs": [],
   "source": [
    "Feature = df[['Principal','terms','age','Gender','weekend']]\n",
    "Feature = pd.concat([Feature,pd.get_dummies(df['education'])], axis=1)\n",
    "Feature.drop(['Master or Above'], axis = 1,inplace=True)\n",
    "Feature.head()\n"
   ]
  },
  {
   "cell_type": "markdown",
   "metadata": {
    "button": false,
    "new_sheet": false,
    "run_control": {
     "read_only": false
    }
   },
   "source": [
    "### Feature Selection\n"
   ]
  },
  {
   "cell_type": "markdown",
   "metadata": {
    "button": false,
    "new_sheet": false,
    "run_control": {
     "read_only": false
    }
   },
   "source": [
    "Let's define feature sets, X:\n"
   ]
  },
  {
   "cell_type": "code",
   "execution_count": null,
   "metadata": {
    "button": false,
    "execution": {
     "iopub.execute_input": "2021-08-16T10:43:30.811994Z",
     "iopub.status.busy": "2021-08-16T10:43:30.81151Z",
     "iopub.status.idle": "2021-08-16T10:43:30.824428Z",
     "shell.execute_reply": "2021-08-16T10:43:30.823351Z",
     "shell.execute_reply.started": "2021-08-16T10:43:30.811949Z"
    },
    "new_sheet": false,
    "run_control": {
     "read_only": false
    }
   },
   "outputs": [],
   "source": [
    "X = Feature\n",
    "X[0:5]"
   ]
  },
  {
   "cell_type": "markdown",
   "metadata": {
    "button": false,
    "new_sheet": false,
    "run_control": {
     "read_only": false
    }
   },
   "source": [
    "What are our lables?\n"
   ]
  },
  {
   "cell_type": "code",
   "execution_count": null,
   "metadata": {
    "button": false,
    "execution": {
     "iopub.execute_input": "2021-08-16T10:43:30.82656Z",
     "iopub.status.busy": "2021-08-16T10:43:30.826003Z",
     "iopub.status.idle": "2021-08-16T10:43:30.838924Z",
     "shell.execute_reply": "2021-08-16T10:43:30.838121Z",
     "shell.execute_reply.started": "2021-08-16T10:43:30.826516Z"
    },
    "new_sheet": false,
    "run_control": {
     "read_only": false
    }
   },
   "outputs": [],
   "source": [
    "y = df['loan_status'].values\n",
    "y[0:5]"
   ]
  },
  {
   "cell_type": "markdown",
   "metadata": {
    "button": false,
    "new_sheet": false,
    "run_control": {
     "read_only": false
    }
   },
   "source": [
    "## Normalize Data\n"
   ]
  },
  {
   "cell_type": "markdown",
   "metadata": {
    "button": false,
    "new_sheet": false,
    "run_control": {
     "read_only": false
    }
   },
   "source": [
    "Data Standardization give data zero mean and unit variance (technically should be done after train test split)\n"
   ]
  },
  {
   "cell_type": "code",
   "execution_count": null,
   "metadata": {
    "button": false,
    "execution": {
     "iopub.execute_input": "2021-08-16T10:43:30.841857Z",
     "iopub.status.busy": "2021-08-16T10:43:30.841418Z",
     "iopub.status.idle": "2021-08-16T10:43:30.859621Z",
     "shell.execute_reply": "2021-08-16T10:43:30.858818Z",
     "shell.execute_reply.started": "2021-08-16T10:43:30.841818Z"
    },
    "new_sheet": false,
    "run_control": {
     "read_only": false
    }
   },
   "outputs": [],
   "source": [
    "X= preprocessing.StandardScaler().fit(X).transform(X)\n",
    "X[0:5]"
   ]
  },
  {
   "cell_type": "markdown",
   "metadata": {
    "button": false,
    "new_sheet": false,
    "run_control": {
     "read_only": false
    }
   },
   "source": [
    "# Classification\n"
   ]
  },
  {
   "cell_type": "markdown",
   "metadata": {
    "button": false,
    "new_sheet": false,
    "run_control": {
     "read_only": false
    }
   },
   "source": [
    "Now, it is your turn, use the training set to build an accurate model. Then use the test set to report the accuracy of the model\n",
    "You should use the following algorithm:\n",
    "\n",
    "*   K Nearest Neighbor(KNN)\n",
    "*   Decision Tree\n",
    "*   Support Vector Machine\n",
    "*   Logistic Regression\n",
    "\n",
    "\\__ Notice:\\__\n",
    "\n",
    "*   You can go above and change the pre-processing, feature selection, feature-extraction, and so on, to make a better model.\n",
    "*   You should use either scikit-learn, Scipy or Numpy libraries for developing the classification algorithms.\n",
    "*   You should include the code of the algorithm in the following cells.\n"
   ]
  },
  {
   "cell_type": "markdown",
   "metadata": {},
   "source": [
    "# K Nearest Neighbor(KNN)\n",
    "\n",
    "Notice: You should find the best k to build the model with the best accuracy.\\\n",
    "**warning:** You should not use the **loan_test.csv** for finding the best k, however, you can split your train_loan.csv into train and test to find the best **k**.\n"
   ]
  },
  {
   "cell_type": "code",
   "execution_count": null,
   "metadata": {
    "execution": {
     "iopub.execute_input": "2021-08-16T10:43:30.861409Z",
     "iopub.status.busy": "2021-08-16T10:43:30.86097Z",
     "iopub.status.idle": "2021-08-16T10:43:30.871262Z",
     "shell.execute_reply": "2021-08-16T10:43:30.869908Z",
     "shell.execute_reply.started": "2021-08-16T10:43:30.861375Z"
    }
   },
   "outputs": [],
   "source": [
    "#Data Sets:\n",
    "from sklearn.model_selection import train_test_split\n",
    "X_train, X_test, y_train, y_test = train_test_split(X, y, test_size=0.2, random_state=4)\n",
    "\n",
    "print(\"Train set: \", X_train.shape, y_train.shape)\n",
    "print(\"Test set: \", X_test.shape, y_test.shape)"
   ]
  },
  {
   "cell_type": "code",
   "execution_count": null,
   "metadata": {
    "execution": {
     "iopub.execute_input": "2021-08-16T10:43:30.873452Z",
     "iopub.status.busy": "2021-08-16T10:43:30.873006Z",
     "iopub.status.idle": "2021-08-16T10:43:30.945976Z",
     "shell.execute_reply": "2021-08-16T10:43:30.944872Z",
     "shell.execute_reply.started": "2021-08-16T10:43:30.873408Z"
    }
   },
   "outputs": [],
   "source": [
    "from sklearn.neighbors import KNeighborsClassifier\n",
    "from sklearn.metrics import accuracy_score\n",
    "k = 3\n",
    "#We fit the model:\n",
    "kNN_model = KNeighborsClassifier(n_neighbors=k).fit(X_train, y_train)\n",
    "kNN_model\n",
    "y_pred = kNN_model.predict( X_test )\n",
    "\n",
    "#Find the max value\n",
    "accuracies = {}\n",
    "k_max = 1\n",
    "acc_max = 0\n",
    "for k in range(1, 10):\n",
    "    kNN_model = KNeighborsClassifier(n_neighbors=k).fit(X_train, y_train)\n",
    "    y_pred = kNN_model.predict( X_test )\n",
    "    accuracies[k] = accuracy_score(y_test, y_pred)\n",
    "    print(k, accuracies[k])"
   ]
  },
  {
   "cell_type": "code",
   "execution_count": null,
   "metadata": {
    "execution": {
     "iopub.execute_input": "2021-08-16T11:09:32.192893Z",
     "iopub.status.busy": "2021-08-16T11:09:32.192317Z",
     "iopub.status.idle": "2021-08-16T11:09:32.243262Z",
     "shell.execute_reply": "2021-08-16T11:09:32.242191Z",
     "shell.execute_reply.started": "2021-08-16T11:09:32.192846Z"
    }
   },
   "outputs": [],
   "source": [
    "from sklearn.metrics import f1_score\n",
    "from sklearn.metrics import jaccard_score\n",
    "from sklearn import metrics\n",
    "\n",
    "print(\"We take k = 7\")\n",
    "knn_model = KNeighborsClassifier(n_neighbors = 7).fit(X_train, y_train)\n",
    "\n",
    "print(\"Train set Accuracy (Jaccard): \", metrics.accuracy_score(y_train, knn_model.predict(X_train)))\n",
    "print(\"Test set Accuracy (Jaccard): \", metrics.accuracy_score(y_test, knn_model.predict(X_test)))\n",
    "\n",
    "print(\"Train set Accuracy (F1): \", f1_score(y_train, knn_model.predict(X_train), average='weighted'))\n",
    "print(\"Test set Accuracy (F1): \", f1_score(y_test, knn_model.predict(X_test), average='weighted'))\n"
   ]
  },
  {
   "cell_type": "markdown",
   "metadata": {},
   "source": [
    "# Decision Tree\n"
   ]
  },
  {
   "cell_type": "code",
   "execution_count": null,
   "metadata": {
    "execution": {
     "iopub.execute_input": "2021-08-16T11:09:41.89017Z",
     "iopub.status.busy": "2021-08-16T11:09:41.889615Z",
     "iopub.status.idle": "2021-08-16T11:09:41.895466Z",
     "shell.execute_reply": "2021-08-16T11:09:41.894231Z",
     "shell.execute_reply.started": "2021-08-16T11:09:41.890135Z"
    }
   },
   "outputs": [],
   "source": [
    "from sklearn.tree import DecisionTreeClassifier\n"
   ]
  },
  {
   "cell_type": "code",
   "execution_count": null,
   "metadata": {
    "execution": {
     "iopub.execute_input": "2021-08-16T10:59:20.395999Z",
     "iopub.status.busy": "2021-08-16T10:59:20.395609Z",
     "iopub.status.idle": "2021-08-16T10:59:20.423115Z",
     "shell.execute_reply": "2021-08-16T10:59:20.421945Z",
     "shell.execute_reply.started": "2021-08-16T10:59:20.395963Z"
    }
   },
   "outputs": [],
   "source": [
    "for d in range(1,10):\n",
    "    dt = DecisionTreeClassifier(criterion = 'entropy', max_depth = d).fit(X_train, y_train)\n",
    "    y_pred = dt.predict(X_test)\n",
    "    print(d, accuracy_score(y_test, y_pred))"
   ]
  },
  {
   "cell_type": "code",
   "execution_count": null,
   "metadata": {
    "execution": {
     "iopub.execute_input": "2021-08-16T11:10:56.424367Z",
     "iopub.status.busy": "2021-08-16T11:10:56.423828Z",
     "iopub.status.idle": "2021-08-16T11:10:56.443396Z",
     "shell.execute_reply": "2021-08-16T11:10:56.44231Z",
     "shell.execute_reply.started": "2021-08-16T11:10:56.424337Z"
    }
   },
   "outputs": [],
   "source": [
    "print(\"We take depth = 2\")\n",
    "dt = DecisionTreeClassifier(criterion=\"entropy\", max_depth=2).fit(X_train, y_train)\n",
    "\n",
    "print(\"Train set Accuracy (Jaccard): \", metrics.accuracy_score(y_train, dt.predict(X_train)))\n",
    "print(\"Test set Accuracy (Jaccard): \", metrics.accuracy_score(y_test, dt.predict(X_test)))\n",
    "\n",
    "print(\"Train set Accuracy (F1): \", f1_score(y_train, dt.predict(X_train), average='weighted'))\n",
    "print(\"Test set Accuracy (F1): \", f1_score(y_test, dt.predict(X_test), average='weighted'))\n"
   ]
  },
  {
   "cell_type": "markdown",
   "metadata": {},
   "source": [
    "# Support Vector Machine\n"
   ]
  },
  {
   "cell_type": "code",
   "execution_count": null,
   "metadata": {
    "execution": {
     "iopub.execute_input": "2021-08-16T11:11:52.806182Z",
     "iopub.status.busy": "2021-08-16T11:11:52.805605Z",
     "iopub.status.idle": "2021-08-16T11:11:52.810178Z",
     "shell.execute_reply": "2021-08-16T11:11:52.809067Z",
     "shell.execute_reply.started": "2021-08-16T11:11:52.806147Z"
    }
   },
   "outputs": [],
   "source": [
    "#importing svm\n",
    "from sklearn import svm \n"
   ]
  },
  {
   "cell_type": "code",
   "execution_count": null,
   "metadata": {
    "execution": {
     "iopub.execute_input": "2021-08-16T11:12:21.706965Z",
     "iopub.status.busy": "2021-08-16T11:12:21.706392Z",
     "iopub.status.idle": "2021-08-16T11:12:21.735227Z",
     "shell.execute_reply": "2021-08-16T11:12:21.734123Z",
     "shell.execute_reply.started": "2021-08-16T11:12:21.706924Z"
    }
   },
   "outputs": [],
   "source": [
    "for k in ('linear', 'poly', 'rbf','sigmoid'):\n",
    "    svm_model = svm.SVC( kernel = k).fit(X_train,y_train)\n",
    "    svm_yhat = svm_model.predict(X_test)\n",
    "    print(\"For kernel: {}, the f1 score is: {}\".format(k,f1_score(y_test,svm_yhat, average='weighted')))"
   ]
  },
  {
   "cell_type": "code",
   "execution_count": null,
   "metadata": {
    "execution": {
     "iopub.execute_input": "2021-08-16T11:15:55.888442Z",
     "iopub.status.busy": "2021-08-16T11:15:55.888055Z",
     "iopub.status.idle": "2021-08-16T11:15:55.913542Z",
     "shell.execute_reply": "2021-08-16T11:15:55.912811Z",
     "shell.execute_reply.started": "2021-08-16T11:15:55.888412Z"
    }
   },
   "outputs": [],
   "source": [
    "print(\"So we choose rbf\")\n",
    "svm_model = svm.SVC( kernel = 'rbf').fit(X_train,y_train)\n",
    "\n",
    "\n",
    "print(\"Train set Accuracy (Jaccard): \", metrics.accuracy_score(y_train, svm_model.predict(X_train)))\n",
    "print(\"Test set Accuracy (Jaccard): \", metrics.accuracy_score(y_test, svm_model.predict(X_test)))\n",
    "\n",
    "print(\"Train set Accuracy (F1): \", f1_score(y_train, svm_model.predict(X_train), average='weighted'))\n",
    "print(\"Test set Accuracy (F1): \", f1_score(y_test, svm_model.predict(X_test), average='weighted'))"
   ]
  },
  {
   "cell_type": "markdown",
   "metadata": {},
   "source": [
    "# Logistic Regression\n"
   ]
  },
  {
   "cell_type": "code",
   "execution_count": null,
   "metadata": {
    "execution": {
     "iopub.execute_input": "2021-08-16T11:31:29.786064Z",
     "iopub.status.busy": "2021-08-16T11:31:29.785074Z",
     "iopub.status.idle": "2021-08-16T11:31:29.792585Z",
     "shell.execute_reply": "2021-08-16T11:31:29.791853Z",
     "shell.execute_reply.started": "2021-08-16T11:31:29.786008Z"
    }
   },
   "outputs": [],
   "source": [
    "from sklearn.linear_model import LogisticRegression \n",
    "from sklearn.metrics import log_loss"
   ]
  },
  {
   "cell_type": "code",
   "execution_count": null,
   "metadata": {
    "execution": {
     "iopub.execute_input": "2021-08-16T11:32:14.30132Z",
     "iopub.status.busy": "2021-08-16T11:32:14.300794Z",
     "iopub.status.idle": "2021-08-16T11:32:14.49421Z",
     "shell.execute_reply": "2021-08-16T11:32:14.493084Z",
     "shell.execute_reply.started": "2021-08-16T11:32:14.301289Z"
    }
   },
   "outputs": [],
   "source": [
    "for k in ('lbfgs', 'saga', 'liblinear', 'newton-cg', 'sag'):\n",
    "    lr_model = LogisticRegression(C = 0.01, solver = k).fit(X_train, y_train)\n",
    "    lr_yhat = lr_model.predict(X_test)\n",
    "    y_prob = lr_model.predict_proba(X_test)\n",
    "    print('When Solver is {}, logloss is : {}'.format(k, log_loss(y_test, y_prob)))"
   ]
  },
  {
   "cell_type": "code",
   "execution_count": null,
   "metadata": {
    "execution": {
     "iopub.execute_input": "2021-08-16T11:34:06.097491Z",
     "iopub.status.busy": "2021-08-16T11:34:06.09685Z",
     "iopub.status.idle": "2021-08-16T11:34:06.117451Z",
     "shell.execute_reply": "2021-08-16T11:34:06.116347Z",
     "shell.execute_reply.started": "2021-08-16T11:34:06.097443Z"
    }
   },
   "outputs": [],
   "source": [
    "k = 'liblinear'\n",
    "lr_model = LogisticRegression(C = 0.01, solver = k).fit(X_train, y_train)\n",
    "\n",
    "print(\"Train set Accuracy (Jaccard): \", metrics.accuracy_score(y_train, lr_model.predict(X_train)))\n",
    "print(\"Test set Accuracy (Jaccard): \", metrics.accuracy_score(y_test, lr_model.predict(X_test)))\n",
    "\n",
    "print(\"Train set Accuracy (F1): \", f1_score(y_train, lr_model.predict(X_train), average='weighted'))\n",
    "print(\"Test set Accuracy (F1): \", f1_score(y_test, lr_model.predict(X_test), average='weighted'))"
   ]
  },
  {
   "cell_type": "markdown",
   "metadata": {},
   "source": [
    "# Model Evaluation using Test set\n"
   ]
  },
  {
   "cell_type": "code",
   "execution_count": null,
   "metadata": {
    "execution": {
     "iopub.execute_input": "2021-08-16T10:43:30.947603Z",
     "iopub.status.busy": "2021-08-16T10:43:30.947278Z",
     "iopub.status.idle": "2021-08-16T10:43:30.953796Z",
     "shell.execute_reply": "2021-08-16T10:43:30.95271Z",
     "shell.execute_reply.started": "2021-08-16T10:43:30.947573Z"
    }
   },
   "outputs": [],
   "source": [
    "from sklearn.metrics import jaccard_score\n",
    "from sklearn.metrics import f1_score\n",
    "from sklearn.metrics import log_loss\n"
   ]
  },
  {
   "cell_type": "markdown",
   "metadata": {},
   "source": [
    "First, download and load the test set:\n"
   ]
  },
  {
   "cell_type": "code",
   "execution_count": null,
   "metadata": {
    "execution": {
     "iopub.execute_input": "2021-08-16T10:43:30.955704Z",
     "iopub.status.busy": "2021-08-16T10:43:30.955378Z",
     "iopub.status.idle": "2021-08-16T10:43:31.88796Z",
     "shell.execute_reply": "2021-08-16T10:43:31.886692Z",
     "shell.execute_reply.started": "2021-08-16T10:43:30.955672Z"
    }
   },
   "outputs": [],
   "source": [
    "!wget -O loan_test.csv https://s3-api.us-geo.objectstorage.softlayer.net/cf-courses-data/CognitiveClass/ML0101ENv3/labs/loan_test.csv"
   ]
  },
  {
   "cell_type": "markdown",
   "metadata": {
    "button": false,
    "new_sheet": false,
    "run_control": {
     "read_only": false
    }
   },
   "source": [
    "### Load Test set for evaluation\n"
   ]
  },
  {
   "cell_type": "code",
   "execution_count": null,
   "metadata": {
    "button": false,
    "execution": {
     "iopub.execute_input": "2021-08-16T10:43:31.89229Z",
     "iopub.status.busy": "2021-08-16T10:43:31.89192Z",
     "iopub.status.idle": "2021-08-16T10:43:31.919547Z",
     "shell.execute_reply": "2021-08-16T10:43:31.918432Z",
     "shell.execute_reply.started": "2021-08-16T10:43:31.892253Z"
    },
    "new_sheet": false,
    "run_control": {
     "read_only": false
    }
   },
   "outputs": [],
   "source": [
    "test_df = pd.read_csv('loan_test.csv')\n",
    "test_df.head()"
   ]
  },
  {
   "cell_type": "code",
   "execution_count": null,
   "metadata": {
    "execution": {
     "iopub.execute_input": "2021-08-16T11:36:19.451882Z",
     "iopub.status.busy": "2021-08-16T11:36:19.451511Z",
     "iopub.status.idle": "2021-08-16T11:36:19.485142Z",
     "shell.execute_reply": "2021-08-16T11:36:19.484343Z",
     "shell.execute_reply.started": "2021-08-16T11:36:19.451854Z"
    }
   },
   "outputs": [],
   "source": [
    "test_df['due_date'] = pd.to_datetime(test_df['due_date'])\n",
    "test_df['effective_date'] = pd.to_datetime(test_df['effective_date'])\n",
    "test_df['dayofweek'] = test_df['effective_date'].dt.dayofweek\n",
    "\n",
    "test_df['weekend'] = test_df['dayofweek'].apply(lambda x: 1 if (x>3)  else 0)\n",
    "test_df['Gender'].replace(to_replace=['male','female'], value=[0,1],inplace=True)\n",
    "\n",
    "Feature1 = test_df[['Principal','terms','age','Gender','weekend']]\n",
    "Feature1 = pd.concat([Feature1,pd.get_dummies(test_df['education'])], axis=1)\n",
    "Feature1.drop(['Master or Above'], axis = 1,inplace=True)\n",
    "\n",
    "\n",
    "x_loan_test = Feature1\n",
    "x_loan_test = preprocessing.StandardScaler().fit(x_loan_test).transform(x_loan_test)\n",
    "\n",
    "y_loan_test = test_df['loan_status'].values"
   ]
  },
  {
   "cell_type": "code",
   "execution_count": null,
   "metadata": {
    "execution": {
     "iopub.execute_input": "2021-08-16T11:45:45.676986Z",
     "iopub.status.busy": "2021-08-16T11:45:45.676568Z",
     "iopub.status.idle": "2021-08-16T11:45:45.694832Z",
     "shell.execute_reply": "2021-08-16T11:45:45.694028Z",
     "shell.execute_reply.started": "2021-08-16T11:45:45.676953Z"
    }
   },
   "outputs": [],
   "source": [
    "#jaccard list:\n",
    "knn_pred = kNN_model.predict(x_loan_test)\n",
    "j1 = accuracy_score(y_loan_test, knn_pred)\n",
    "\n",
    "dt_pred = dt.predict(x_loan_test)\n",
    "j2 = accuracy_score(y_loan_test, dt_pred)\n",
    "\n",
    "svm_pred = svm_model.predict(x_loan_test)\n",
    "j3 = accuracy_score(y_loan_test, svm_pred)\n",
    "\n",
    "lr_pred = lr_model.predict(x_loan_test)\n",
    "j4 = accuracy_score(y_loan_test, lr_pred)\n",
    "\n",
    "jaccard = [j1, j2, j3, j4]\n",
    "jaccard"
   ]
  },
  {
   "cell_type": "code",
   "execution_count": null,
   "metadata": {
    "execution": {
     "iopub.execute_input": "2021-08-16T11:49:49.464313Z",
     "iopub.status.busy": "2021-08-16T11:49:49.463615Z",
     "iopub.status.idle": "2021-08-16T11:49:49.492698Z",
     "shell.execute_reply": "2021-08-16T11:49:49.491737Z",
     "shell.execute_reply.started": "2021-08-16T11:49:49.464254Z"
    }
   },
   "outputs": [],
   "source": [
    "knn_pred = kNN_model.predict(x_loan_test)\n",
    "f1 = f1_score(y_loan_test, knn_pred, average='weighted')\n",
    "\n",
    "dt_pred = dt.predict(x_loan_test)\n",
    "f2 = f1_score(y_loan_test, dt_pred, average='weighted')\n",
    "\n",
    "\n",
    "svm_pred = svm_model.predict(x_loan_test)\n",
    "f3 = f1_score(y_loan_test, svm_pred, average='weighted')\n",
    "\n",
    "lr_pred = lr_model.predict(x_loan_test)\n",
    "f4 = f1_score(y_loan_test, lr_pred, average='weighted')\n",
    "\n",
    "f1s = [f1, f2, f3, f4]\n",
    "f1s"
   ]
  },
  {
   "cell_type": "code",
   "execution_count": null,
   "metadata": {
    "execution": {
     "iopub.execute_input": "2021-08-16T12:03:58.372529Z",
     "iopub.status.busy": "2021-08-16T12:03:58.371967Z",
     "iopub.status.idle": "2021-08-16T12:03:58.380986Z",
     "shell.execute_reply": "2021-08-16T12:03:58.380252Z",
     "shell.execute_reply.started": "2021-08-16T12:03:58.372481Z"
    }
   },
   "outputs": [],
   "source": [
    "from sklearn.metrics import log_loss\n",
    "\n",
    "lr_pred = lr_model.predict_proba(x_loan_test)\n",
    "aux = log_loss(y_loan_test, lr_pred)\n",
    "\n",
    "log_loss = ['NA','NA','NA', aux]\n",
    "log_loss\n"
   ]
  },
  {
   "cell_type": "code",
   "execution_count": null,
   "metadata": {
    "execution": {
     "iopub.execute_input": "2021-08-16T12:10:57.867978Z",
     "iopub.status.busy": "2021-08-16T12:10:57.867596Z",
     "iopub.status.idle": "2021-08-16T12:10:57.8824Z",
     "shell.execute_reply": "2021-08-16T12:10:57.881109Z",
     "shell.execute_reply.started": "2021-08-16T12:10:57.86794Z"
    }
   },
   "outputs": [],
   "source": [
    "index   = [\"KNN\", \"Decision Tree\", \"SVM\", \"Logistic Regression\"]\n",
    "colunms = [\"Jaccard\", \"F1-score\", \"LogLoss\"]\n",
    "\n",
    "data = [jaccard, f1s, log_loss]\n",
    "data = np.array(data).T\n",
    "\n",
    "df = pd.DataFrame(data, index=index, columns=colunms)\n",
    "df"
   ]
  },
  {
   "cell_type": "markdown",
   "metadata": {},
   "source": [
    "# Report\n",
    "\n",
    "You should be able to report the accuracy of the built model using different evaluation metrics:\n"
   ]
  },
  {
   "cell_type": "markdown",
   "metadata": {},
   "source": [
    "| Algorithm          | Jaccard | F1-score | LogLoss |\n",
    "|--------------------|---------|----------|---------|\n",
    "| KNN                | ?       | ?        | NA      |\n",
    "| Decision Tree      | ?       | ?        | NA      |\n",
    "| SVM                | ?       | ?        | NA      |\n",
    "| LogisticRegression | ?       | ?        | ?       |\n"
   ]
  },
  {
   "cell_type": "markdown",
   "metadata": {
    "button": false,
    "new_sheet": false,
    "run_control": {
     "read_only": false
    }
   },
   "source": [
    "<h2>Want to learn more?</h2>\n",
    "\n",
    "IBM SPSS Modeler is a comprehensive analytics platform that has many machine learning algorithms. It has been designed to bring predictive intelligence to decisions made by individuals, by groups, by systems – by your enterprise as a whole. A free trial is available through this course, available here: <a href=\"http://cocl.us/ML0101EN-SPSSModeler?utm_medium=Exinfluencer&utm_source=Exinfluencer&utm_content=000026UJ&utm_term=10006555&utm_id=NA-SkillsNetwork-Channel-SkillsNetworkCoursesIBMDeveloperSkillsNetworkML0101ENSkillsNetwork20718538-2021-01-01\">SPSS Modeler</a>\n",
    "\n",
    "Also, you can use Watson Studio to run these notebooks faster with bigger datasets. Watson Studio is IBM's leading cloud solution for data scientists, built by data scientists. With Jupyter notebooks, RStudio, Apache Spark and popular libraries pre-packaged in the cloud, Watson Studio enables data scientists to collaborate on their projects without having to install anything. Join the fast-growing community of Watson Studio users today with a free account at <a href=\"https://cocl.us/ML0101EN_DSX?utm_medium=Exinfluencer&utm_source=Exinfluencer&utm_content=000026UJ&utm_term=10006555&utm_id=NA-SkillsNetwork-Channel-SkillsNetworkCoursesIBMDeveloperSkillsNetworkML0101ENSkillsNetwork20718538-2021-01-01\">Watson Studio</a>\n",
    "\n",
    "<h3>Thanks for completing this lesson!</h3>\n",
    "\n",
    "<h4>Author:  <a href=\"https://ca.linkedin.com/in/saeedaghabozorgi?utm_medium=Exinfluencer&utm_source=Exinfluencer&utm_content=000026UJ&utm_term=10006555&utm_id=NA-SkillsNetwork-Channel-SkillsNetworkCoursesIBMDeveloperSkillsNetworkML0101ENSkillsNetwork20718538-2021-01-01?utm_medium=Exinfluencer&utm_source=Exinfluencer&utm_content=000026UJ&utm_term=10006555&utm_id=NA-SkillsNetwork-Channel-SkillsNetworkCoursesIBMDeveloperSkillsNetworkML0101ENSkillsNetwork20718538-2021-01-01\">Saeed Aghabozorgi</a></h4>\n",
    "<p><a href=\"https://ca.linkedin.com/in/saeedaghabozorgi\">Saeed Aghabozorgi</a>, PhD is a Data Scientist in IBM with a track record of developing enterprise level applications that substantially increases clients’ ability to turn data into actionable knowledge. He is a researcher in data mining field and expert in developing advanced analytic methods like machine learning and statistical modelling on large datasets.</p>\n",
    "\n",
    "<hr>\n",
    "\n",
    "## Change Log\n",
    "\n",
    "| Date (YYYY-MM-DD) | Version | Changed By | Change Description |\n",
    "|---|---|---|---|\n",
    "| 2020-10-27 | 2.1 | Lakshmi Holla | Made changes in import statement due to updates in version of  sklearn library |\n",
    "| 2020-08-27 | 2.0 | Malika Singla | Added lab to GitLab |\n",
    "\n",
    "<hr>\n",
    "\n",
    "## <h3 align=\"center\"> © IBM Corporation 2020. All rights reserved. <h3/>\n",
    "\n",
    "<p>\n"
   ]
  }
 ],
 "metadata": {
  "kernelspec": {
   "display_name": "Python 3 (ipykernel)",
   "language": "python",
   "name": "python3"
  },
  "language_info": {
   "codemirror_mode": {
    "name": "ipython",
    "version": 3
   },
   "file_extension": ".py",
   "mimetype": "text/x-python",
   "name": "python",
   "nbconvert_exporter": "python",
   "pygments_lexer": "ipython3",
   "version": "3.9.6"
  }
 },
 "nbformat": 4,
 "nbformat_minor": 4
}
